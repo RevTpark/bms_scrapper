{
 "cells": [
  {
   "cell_type": "code",
   "execution_count": 1,
   "id": "cf771d0a",
   "metadata": {},
   "outputs": [],
   "source": [
    "import requests\n",
    "from bs4 import BeautifulSoup\n",
    "from time import sleep\n",
    "import winsound\n",
    "import difflib\n",
    "import re"
   ]
  },
  {
   "cell_type": "markdown",
   "id": "025ec734",
   "metadata": {},
   "source": [
    "## Construct URL"
   ]
  },
  {
   "cell_type": "code",
   "execution_count": 2,
   "id": "ecd3438e",
   "metadata": {},
   "outputs": [],
   "source": [
    "movie_name = \"SpiderMan No Way home\"\n",
    "location = \"Mumbai\"\n",
    "date = \"16/12/2021\" # DD/MM/YYYY\n",
    "movie_code = \"ET00319080\" # Can be obtained from bookmyshow\n",
    "cinema_type = \"Carnival\""
   ]
  },
  {
   "cell_type": "code",
   "execution_count": 3,
   "id": "45075e09",
   "metadata": {},
   "outputs": [
    {
     "data": {
      "text/plain": [
       "'https://in.bookmyshow.com/buytickets/spiderman-no-way-home-mumbai/movie-mumbai-ET00319080-MT/20211216'"
      ]
     },
     "execution_count": 3,
     "metadata": {},
     "output_type": "execute_result"
    }
   ],
   "source": [
    "date_formatted = \"\".join(date.split(\"/\")[::-1])\n",
    "mov_name_formatted = \"-\".join(movie_name.lower().split())\n",
    "base_url = \"https://in.bookmyshow.com\"\n",
    "headers = {\"user-agent\": \"Mozilla/5.0 (Windows NT 10.0; Win64; x64) AppleWebKit/537.36 (KHTML, like Gecko) Chrome/72.0.3626.109 Safari/537.36\"}\n",
    "url = base_url + f\"/buytickets/{mov_name_formatted}-{location.lower()}/movie-{location.lower()}-{movie_code}-MT/{date_formatted}\"\n",
    "url"
   ]
  },
  {
   "cell_type": "markdown",
   "id": "f8100473",
   "metadata": {},
   "source": [
    "## Checking if booking has started"
   ]
  },
  {
   "cell_type": "code",
   "execution_count": 4,
   "id": "0fd40efd",
   "metadata": {},
   "outputs": [
    {
     "data": {
      "text/plain": [
       "'https://in.bookmyshow.com/buytickets/antim-the-final-truth-mumbai/movie-mumbai-ET00303116-MT/20211213'"
      ]
     },
     "execution_count": 4,
     "metadata": {},
     "output_type": "execute_result"
    }
   ],
   "source": [
    "r = requests.get(\"https://in.bookmyshow.com/buytickets/antim-the-final-truth-mumbai/movie-mumbai-ET00303116-MT/20211209\", headers=headers)\n",
    "r.url"
   ]
  },
  {
   "cell_type": "code",
   "execution_count": 5,
   "id": "f8a4f356",
   "metadata": {},
   "outputs": [],
   "source": [
    "# if r.url == url:\n",
    "soup = BeautifulSoup(r.content, \"html.parser\")\n",
    "venue_list = soup.find(\"ul\", {\"id\": \"venuelist\"})\n",
    "name = venue_list.find_all(\"li\")[0].text"
   ]
  },
  {
   "cell_type": "markdown",
   "id": "11d05e6f",
   "metadata": {},
   "source": [
    "## Getting the right venue"
   ]
  },
  {
   "cell_type": "code",
   "execution_count": 6,
   "id": "63b6f7a6",
   "metadata": {},
   "outputs": [
    {
     "data": {
      "text/plain": [
       "'Carnival: Huma, KanjurmargINFOM-TicketF&B09:40 AM11:00 PMCancellation Available '"
      ]
     },
     "execution_count": 6,
     "metadata": {},
     "output_type": "execute_result"
    }
   ],
   "source": [
    "translator = str.maketrans({chr(10): '', chr(9): ''})\n",
    "name.translate(translator)"
   ]
  },
  {
   "cell_type": "code",
   "execution_count": 7,
   "id": "b709dd09",
   "metadata": {},
   "outputs": [
    {
     "name": "stdout",
     "output_type": "stream",
     "text": [
      "https://in.bookmyshow.com/buytickets/carnival-huma-kanjurmarg/cinema-mumbai-ADHU-MT/20211213\n",
      "https://in.bookmyshow.com/buytickets/carnival-imax-screen-wadala/cinema-mumbai-ADWI-MT/20211213\n",
      "https://in.bookmyshow.com/buytickets/carnival-imax-wadala/cinema-mumbai-ADWD-MT/20211213\n",
      "https://in.bookmyshow.com/buytickets/carnival-dreams-mall-vasai/cinema-mumbai-CCVA-MT/20211213\n",
      "https://in.bookmyshow.com/buytickets/carnival-kt-vasai/cinema-mumbai-KTVM-MT/20211213\n",
      "https://in.bookmyshow.com/buytickets/carnival-moviestar-goregaon/cinema-mumbai-BIMG-MT/20211213\n",
      "https://in.bookmyshow.com/buytickets/carnival-sangam-andheri/cinema-mumbai-BISM-MT/20211213\n",
      "https://in.bookmyshow.com/buytickets/carnival-sm5-kalyan/cinema-mumbai-SMPK-MT/20211213\n"
     ]
    }
   ],
   "source": [
    "venues = venue_list.find_all(\"li\")\n",
    "for venue in venues:\n",
    "    venue_name = venue.text.translate(translator)\n",
    "    if venue_name.split()[0].rstrip(\":\").lower() == cinema_type.lower():\n",
    "        print(base_url + venue.find(\"a\", {\"class\": \"__venue-name\"})[\"href\"])\n",
    "    #print(venue)"
   ]
  },
  {
   "cell_type": "markdown",
   "id": "b9d489c9",
   "metadata": {},
   "source": [
    "## Play sound"
   ]
  },
  {
   "cell_type": "code",
   "execution_count": 8,
   "id": "f474077a",
   "metadata": {},
   "outputs": [],
   "source": [
    "freq = 100\n",
    "dur = 50\n",
    "for i in range(0, 20):    \n",
    "    winsound.Beep(freq, dur)    \n",
    "    freq+= 100\n",
    "    dur+= 50"
   ]
  },
  {
   "cell_type": "markdown",
   "id": "8502f45d",
   "metadata": {},
   "source": [
    "## Basic Main function "
   ]
  },
  {
   "cell_type": "code",
   "execution_count": 9,
   "id": "d6350949",
   "metadata": {},
   "outputs": [],
   "source": [
    "def main():\n",
    "    movie_name = \"Spider Man No Way home\"\n",
    "    location = \"Mumbai\"\n",
    "    date = \"16/12/2021\" # DD/MM/YYYY\n",
    "    movie_code = \"ET00319080\" # Can be obtained from bookmyshow dynamic but ok\n",
    "    cinema_type = \"Carnival\"\n",
    "    \n",
    "    date_formatted = \"\".join(date.split(\"/\")[::-1])\n",
    "    mov_name_formatted = \"-\".join(movie_name.lower().split())\n",
    "    base_url = \"https://in.bookmyshow.com\"\n",
    "    headers = {\"user-agent\": \"Mozilla/5.0 (Windows NT 10.0; Win64; x64) AppleWebKit/537.36 (KHTML, like Gecko) Chrome/72.0.3626.109 Safari/537.36\"}\n",
    "    url = base_url + f\"/buytickets/{mov_name_formatted}-{location.lower()}/movie-{location.lower()}-{movie_code}-MT/{date_formatted}\"\n",
    "    \n",
    "    it = 0\n",
    "    while True:\n",
    "        it += 1\n",
    "        r = requests.get(url, headers=headers)\n",
    "        if r.url == url:\n",
    "            freq = 100\n",
    "            dur = 50\n",
    "            for i in range(0, 20):\n",
    "                winsound.Beep(freq, dur)\n",
    "                freq += 100\n",
    "                dur += 50\n",
    "            soup = BeautifulSoup(r.content, \"html.parser\")\n",
    "            venue_list = soup.find(\"ul\", {\"id\": \"venuelist\"}).find_all(\"li\")\n",
    "\n",
    "            translator = str.maketrans({chr(10): '', chr(9): ''})\n",
    "            # name.translate(translator)\n",
    "\n",
    "            for venue in venue_list:\n",
    "                venue_name = venue.text.translate(translator)\n",
    "                if venue_name.split()[0].rstrip(\":\").lower() == cinema_type.lower():\n",
    "                    print(base_url + venue.find(\"a\", {\"class\": \"__venue-name\"})[\"href\"])\n",
    "        print(\"Iteration\", it)\n",
    "        sleep(15)\n"
   ]
  },
  {
   "cell_type": "code",
   "execution_count": 10,
   "id": "63ea36ca",
   "metadata": {},
   "outputs": [
    {
     "name": "stdout",
     "output_type": "stream",
     "text": [
      "Iteration 1\n"
     ]
    },
    {
     "ename": "KeyboardInterrupt",
     "evalue": "",
     "output_type": "error",
     "traceback": [
      "\u001b[1;31m---------------------------------------------------------------------------\u001b[0m",
      "\u001b[1;31mKeyboardInterrupt\u001b[0m                         Traceback (most recent call last)",
      "\u001b[1;32m~\\AppData\\Local\\Temp/ipykernel_26000/451043146.py\u001b[0m in \u001b[0;36m<module>\u001b[1;34m\u001b[0m\n\u001b[1;32m----> 1\u001b[1;33m \u001b[0mmain\u001b[0m\u001b[1;33m(\u001b[0m\u001b[1;33m)\u001b[0m\u001b[1;33m\u001b[0m\u001b[1;33m\u001b[0m\u001b[0m\n\u001b[0m",
      "\u001b[1;32m~\\AppData\\Local\\Temp/ipykernel_26000/2934870125.py\u001b[0m in \u001b[0;36mmain\u001b[1;34m()\u001b[0m\n\u001b[0;32m     34\u001b[0m                     \u001b[0mprint\u001b[0m\u001b[1;33m(\u001b[0m\u001b[0mbase_url\u001b[0m \u001b[1;33m+\u001b[0m \u001b[0mvenue\u001b[0m\u001b[1;33m.\u001b[0m\u001b[0mfind\u001b[0m\u001b[1;33m(\u001b[0m\u001b[1;34m\"a\"\u001b[0m\u001b[1;33m,\u001b[0m \u001b[1;33m{\u001b[0m\u001b[1;34m\"class\"\u001b[0m\u001b[1;33m:\u001b[0m \u001b[1;34m\"__venue-name\"\u001b[0m\u001b[1;33m}\u001b[0m\u001b[1;33m)\u001b[0m\u001b[1;33m[\u001b[0m\u001b[1;34m\"href\"\u001b[0m\u001b[1;33m]\u001b[0m\u001b[1;33m)\u001b[0m\u001b[1;33m\u001b[0m\u001b[1;33m\u001b[0m\u001b[0m\n\u001b[0;32m     35\u001b[0m         \u001b[0mprint\u001b[0m\u001b[1;33m(\u001b[0m\u001b[1;34m\"Iteration\"\u001b[0m\u001b[1;33m,\u001b[0m \u001b[0mit\u001b[0m\u001b[1;33m)\u001b[0m\u001b[1;33m\u001b[0m\u001b[1;33m\u001b[0m\u001b[0m\n\u001b[1;32m---> 36\u001b[1;33m         \u001b[0msleep\u001b[0m\u001b[1;33m(\u001b[0m\u001b[1;36m15\u001b[0m\u001b[1;33m)\u001b[0m\u001b[1;33m\u001b[0m\u001b[1;33m\u001b[0m\u001b[0m\n\u001b[0m",
      "\u001b[1;31mKeyboardInterrupt\u001b[0m: "
     ]
    }
   ],
   "source": [
    "main()"
   ]
  },
  {
   "cell_type": "markdown",
   "id": "886663ec",
   "metadata": {},
   "source": [
    "## Dynamically getting the movie code"
   ]
  },
  {
   "cell_type": "code",
   "execution_count": 11,
   "id": "ecde7c58",
   "metadata": {},
   "outputs": [
    {
     "name": "stdout",
     "output_type": "stream",
     "text": [
      "https://in.bookmyshow.com/explore/upcoming-movies-Mumbai?referrerBase=movies\n"
     ]
    }
   ],
   "source": [
    "url = base_url + f\"/explore/upcoming-movies-{location}?referrerBase=movies\"\n",
    "print(url)"
   ]
  },
  {
   "cell_type": "code",
   "execution_count": 12,
   "id": "445fd936",
   "metadata": {},
   "outputs": [],
   "source": [
    "r = requests.get(url)"
   ]
  },
  {
   "cell_type": "code",
   "execution_count": 13,
   "id": "4540f946",
   "metadata": {},
   "outputs": [],
   "source": [
    "soup = BeautifulSoup(r.content, \"html.parser\")\n",
    "temp = soup.find_all(\"a\", {\"class\": \"commonStyles__LinkWrapper-sc-133848s-11\"})[1]\n",
    "temp_link = temp[\"href\"]"
   ]
  },
  {
   "cell_type": "code",
   "execution_count": 14,
   "id": "a8400c8e",
   "metadata": {},
   "outputs": [
    {
     "data": {
      "text/plain": [
       "'aana'"
      ]
     },
     "execution_count": 14,
     "metadata": {},
     "output_type": "execute_result"
    }
   ],
   "source": [
    "temp_link.split(\"/\")[-2]"
   ]
  },
  {
   "cell_type": "code",
   "execution_count": 15,
   "id": "9cdfaa5d",
   "metadata": {},
   "outputs": [],
   "source": [
    "movies_list = soup.find_all(\"a\", {\"class\": \"commonStyles__LinkWrapper-sc-133848s-11\"})\n",
    "for movies in  movies_list:\n",
    "    try:\n",
    "        link = movies[\"href\"].split(\"/\")\n",
    "        if link[-2] == mov_name_formatted:\n",
    "            print(link[-1])\n",
    "    except:\n",
    "        pass"
   ]
  },
  {
   "cell_type": "code",
   "execution_count": 31,
   "id": "e5a7b274",
   "metadata": {},
   "outputs": [
    {
     "name": "stdout",
     "output_type": "stream",
     "text": [
      "explore\n",
      "chandigarh-kare-aashiqui\n",
      "velle\n",
      "spiderman-no-way-home\n",
      "ET00310790\n",
      "pandu\n",
      "tadap\n",
      "jhimma\n",
      "antim-the-final-truth\n",
      "darling\n",
      "sooryavanshi\n",
      "west-side-story\n",
      "house-of-gucci\n",
      "no-time-to-die\n",
      "vijeta\n",
      "malignant\n",
      "encanto\n",
      "eternals\n"
     ]
    }
   ],
   "source": [
    "new_url = base_url + f\"/explore/movies-{location}\"\n",
    "r = requests.get(new_url)\n",
    "soup = BeautifulSoup(r.content, \"html.parser\")\n",
    "movies_list = soup.find_all(\"a\", {\"class\": \"commonStyles__LinkWrapper-sc-133848s-11\"})\n",
    "for movies in  movies_list:\n",
    "        link = movies[\"href\"].split(\"/\")\n",
    "        if len(link) > 1:\n",
    "            print(link[-2])\n",
    "            if link[-2] == mov_name_formatted:\n",
    "                print(link[-1])\n"
   ]
  },
  {
   "cell_type": "code",
   "execution_count": 45,
   "id": "03a7898e",
   "metadata": {},
   "outputs": [],
   "source": [
    "def find_code(url, res):\n",
    "    r = requests.get(url)\n",
    "    soup = BeautifulSoup(r.content, \"html.parser\")\n",
    "    movies_list = soup.find_all(\"a\", {\"class\": \"commonStyles__LinkWrapper-sc-133848s-11\"})\n",
    "    for movies in  movies_list:\n",
    "        link = movies[\"href\"].split(\"/\")\n",
    "        if len(link) > 1:\n",
    "            res[link[-2]] = link[-1]\n",
    "            if link[-2] == mov_name_formatted:\n",
    "                return link[-1]\n",
    "    return -1\n",
    "\n",
    "\n",
    "def get_movie_code(base_url, location, mov_name_formatted):\n",
    "    res = {}\n",
    "    print(\"Getting movie code...\")\n",
    "    url = base_url + f\"/explore/upcoming-movies-{location}?referrerBase=movies\"\n",
    "    movie_code = find_code(url, res)\n",
    "    if movie_code != -1:\n",
    "        return movie_code\n",
    "    \n",
    "    url = base_url + f\"/explore/movies-{location}\"\n",
    "    movie_code = find_code(url, res)\n",
    "    print(res)\n",
    "    if movie_code != -1:\n",
    "        return movie_code\n",
    "    \n",
    "    print(\"Movie code not found! Getting closest matches....\")\n",
    "    matches = difflib.get_close_matches(mov_name_formatted, res.keys(), cutoff=0.8)\n",
    "    if len(matches) > 0:\n",
    "        print(\"Closet matches:\")\n",
    "        for cnt, item in enumerate(matches):\n",
    "            print(f\"{cnt} | {item} | {res[item]}\")\n",
    "            \n",
    "    ans = input(\"Enter index number of the closest match if the right movie is found(Y/N):\").lower()\n",
    "    if ans == \"y\":\n",
    "        idx = int(input(\"Enter the index: \"))\n",
    "        return res[matches[idx]]\n",
    "    elif ans == \"n\":            \n",
    "        # Example ET00315808\n",
    "        while True:\n",
    "            code = input(\"Enter the code of the movie manually(ET00XXXXXX): \").rstrip().lstrip()\n",
    "            if bool(re.match(r\"ET00[0-9]{6}\", code)):\n",
    "                return code\n",
    "            print(\"Not valid code\")\n"
   ]
  },
  {
   "cell_type": "code",
   "execution_count": 46,
   "id": "25c84d56",
   "metadata": {},
   "outputs": [
    {
     "name": "stdout",
     "output_type": "stream",
     "text": [
      "Getting movie code...\n",
      "{'aana': 'ET00319137', 'email-female': 'ET00112631', 'irudhi-pakkam': 'ET00310569', 'thanne-vandi': 'ET00319326', 'back-door': 'ET00318622', 'pushpa-the-rise': 'ET00129538', 'esports-festival': 'ET00315808', 'bhoka': 'ET00319519', 'free-hit-danka': 'ET00306930', 'maa-kathalu': 'ET00319140', 'hashtag-prem': 'ET00307462', 'r23-criminals-diary': 'ET00319082', 'shava-ni-girdhari-lal': 'ET00314396', 'dre7ms': 'ET00317117', 'the-matrix-resurrections': 'ET00133391', 'ajagajantharam': 'ET00305165', 'explore': 'upcoming-movies-mumbai?referrerBase=movies', 'chandigarh-kare-aashiqui': 'ET00145956', 'spiderman-no-way-home': 'ET00310790'}\n"
     ]
    },
    {
     "data": {
      "text/plain": [
       "'ET00310790'"
      ]
     },
     "execution_count": 46,
     "metadata": {},
     "output_type": "execute_result"
    }
   ],
   "source": [
    "get_movie_code(base_url, location, mov_name_formatted)"
   ]
  },
  {
   "cell_type": "markdown",
   "id": "36c3cd6f",
   "metadata": {},
   "source": [
    "## Getting details"
   ]
  },
  {
   "cell_type": "code",
   "execution_count": 18,
   "id": "36ad0121",
   "metadata": {},
   "outputs": [],
   "source": [
    "def get_details():\n",
    "    movie_name = input(\"Enter Movie Name\\n- Only Spaces no Special Characters\\n\")\n",
    "    location = input(\"Enter City\\n- Enter Popular cities that appear on bookmyshow\\\n",
    "                     \\n- Enter full forms, example: National Captial Region instead of NCR\")\n",
    "    date = input(\"Enter date when movie is going to be released\\n- Enter a future date\\n- Format: DD/MM/YYYY strictly\") # DD/MM/YYYY\n",
    "    cinema_type = input(\"Enter theater type\\n- Example: INOX, Cinepolis, Carnival, Gold, etc\")\n",
    "    \n",
    "    date_formatted = \"\".join(date.split(\"/\")[::-1])\n",
    "    mov_name_formatted = \"-\".join(movie_name.lower().split())\n",
    "    movie_code = get_movie_code(base_url, location, mov_name_formatted)"
   ]
  },
  {
   "cell_type": "code",
   "execution_count": null,
   "id": "86b75a64",
   "metadata": {},
   "outputs": [],
   "source": []
  }
 ],
 "metadata": {
  "kernelspec": {
   "display_name": "Python 3 (ipykernel)",
   "language": "python",
   "name": "python3"
  },
  "language_info": {
   "codemirror_mode": {
    "name": "ipython",
    "version": 3
   },
   "file_extension": ".py",
   "mimetype": "text/x-python",
   "name": "python",
   "nbconvert_exporter": "python",
   "pygments_lexer": "ipython3",
   "version": "3.9.1"
  }
 },
 "nbformat": 4,
 "nbformat_minor": 5
}
